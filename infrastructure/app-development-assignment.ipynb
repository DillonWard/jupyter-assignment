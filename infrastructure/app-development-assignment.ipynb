{
 "cells": [
  {
   "cell_type": "markdown",
   "id": "b9730d1f-3d89-4f78-bd1c-77212d744c97",
   "metadata": {},
   "source": [
    "# Semantic search for similar sentences"
   ]
  },
  {
   "cell_type": "markdown",
   "id": "adf33387-17f5-41dd-9a15-e000096d81d9",
   "metadata": {},
   "source": [
    "#### **Assignment. Application development and deployment**\n",
    "\n",
    "This notebook was developed by one of our research scientists as an artifact of their research. The notebook demonstrates a semantic search functionality.\n",
    "\n",
    "The notebook was presented to product owners and other stakeholders, and we decided to develop a product based on it.\n",
    "\n",
    "We need to develop an application, where users can enter long-form text with multiple sentences and search for similar sentences using a query sentence. For instance, users might be searching for similar claims in a scientific text.\n",
    "\n",
    "Based on the code in this notebook, implement and deploy a demo application.\n",
    "\n",
    "One of the stakeholders, that works closely with our corporate clients, identified a use case where this functionality should also be made available programmatically.\n",
    "The client asked us to expose two functionalities:\n",
    "- return sentence embeddings\n",
    "- semantic search\n",
    "\n",
    "Milestones:\n",
    "- Implement an API with multiple endpoints (highlighted in the code as **API tasks**)\n",
    "- Create an application that uses the API as a backend. Users should be able to enter long-form text and search for similar sentences (**Application tasks**)\n",
    "\n",
    "At the company, we already did similar work and the tools we choose were:\n",
    "- FastAPI for HTTP APIs/services\n",
    "- Vue.js for prototypes and technological proofs of concept. However, for this assignment a WebApp implemented in any Javascript framework of your choice is acceptable.\n",
    "- Docker for deployment into production"
   ]
  },
  {
   "cell_type": "code",
   "execution_count": null,
   "id": "e668c224-2c8b-49d9-a746-d382fe8ab745",
   "metadata": {},
   "outputs": [],
   "source": [
    "import nltk\n",
    "from sentence_transformers import SentenceTransformer, util\n",
    "import numpy as np"
   ]
  },
  {
   "cell_type": "markdown",
   "id": "5a7c965b-621f-47fe-ad62-ea0471673d6d",
   "metadata": {},
   "source": [
    "### 1. Load model"
   ]
  },
  {
   "cell_type": "markdown",
   "id": "fb6a9c2b-d0cb-4a33-bacb-42c7e4428f8f",
   "metadata": {},
   "source": [
    "#### **API task 1**\n",
    "\n",
    "This is the part of the code that should not be exposed on the client side. Implement the following call in the API"
   ]
  },
  {
   "cell_type": "code",
   "execution_count": null,
   "id": "4a73f73e-c8f2-48c9-ad5d-52c66ccb0dde",
   "metadata": {},
   "outputs": [],
   "source": [
    "model = SentenceTransformer(\"allenai-specter\")"
   ]
  },
  {
   "cell_type": "markdown",
   "id": "42507ad4-61b2-48cb-89fb-244966987cd4",
   "metadata": {},
   "source": [
    "### 2. Load text and split into sentences"
   ]
  },
  {
   "cell_type": "markdown",
   "id": "84d38f2a-532d-4b32-bc98-a55cb0d81b6a",
   "metadata": {},
   "source": [
    "#### **Application task 1**\n",
    "Create a text input and let user paste their text. Use the text below as a default input"
   ]
  },
  {
   "cell_type": "code",
   "execution_count": null,
   "id": "6e55b215-1dd5-4387-91d9-e750cb2ae579",
   "metadata": {},
   "outputs": [],
   "source": [
    "input_text = \"The lack of a formal link between neural network structure and its emergent function has hampered our understanding of how the brain processes information. We have now come closer to describing such a link by taking the direction of synaptic transmission into account, constructing graphs of a network that reflect the direction of information flow, and analyzing these directed graphs using algebraic topology. Applying this approach to a local network of neurons in the neocortex revealed a remarkably intricate and previously unseen topology of synaptic connectivity. The synaptic network contains an abundance of cliques of neurons bound into cavities that guide the emergence of correlated activity. In response to stimuli, correlated activity binds synaptically connected neurons into functional cliques and cavities that evolve in a stereotypical sequence toward peak complexity. We propose that the brain processes stimuli by forming increasingly complex functional cliques and cavities.\""
   ]
  },
  {
   "cell_type": "code",
   "execution_count": null,
   "id": "f925dda4-f721-43da-be80-69ffbe0c9b4a",
   "metadata": {},
   "outputs": [],
   "source": [
    "sentence_list = nltk.tokenize.sent_tokenize(input_text)"
   ]
  },
  {
   "cell_type": "markdown",
   "id": "da8ebcdd-7d4b-4545-98c9-f4aada8af49c",
   "metadata": {},
   "source": [
    "### 3. Compute sentence embeddings"
   ]
  },
  {
   "cell_type": "markdown",
   "id": "24e88a31-0839-4219-8863-62965dca4fc5",
   "metadata": {},
   "source": [
    "#### **API task 2**\n",
    "\n",
    "Implement this as an API call that returns sentence embeddings"
   ]
  },
  {
   "cell_type": "code",
   "execution_count": null,
   "id": "3d86436f-161f-410e-9d74-aa31194fa4a2",
   "metadata": {},
   "outputs": [],
   "source": [
    "sentence_embeddings = np.stack([model.encode(sentence) for sentence in sentence_list])"
   ]
  },
  {
   "cell_type": "markdown",
   "id": "1b0b8f64-91c3-4e68-a9bb-159a4da03ead",
   "metadata": {},
   "source": [
    "### 4. Process a query"
   ]
  },
  {
   "cell_type": "markdown",
   "id": "b0bb0384-d708-40cf-8f36-21c089ea2524",
   "metadata": {},
   "source": [
    "#### **Application task 2**\n",
    "\n",
    "Create a text input and let user paste their queries. Use the query below as a default input"
   ]
  },
  {
   "cell_type": "code",
   "execution_count": null,
   "id": "84c74732-ac01-4a93-bf33-ee326d6499f8",
   "metadata": {},
   "outputs": [],
   "source": [
    "user_query = \"Brain networks are shown to have neuronal cliques\""
   ]
  },
  {
   "cell_type": "code",
   "execution_count": null,
   "id": "bdece92c-bd73-4717-a3b4-71edc4c3ce84",
   "metadata": {},
   "outputs": [],
   "source": [
    "query_embedding = model.encode(user_query)"
   ]
  },
  {
   "cell_type": "markdown",
   "id": "9b0f0202",
   "metadata": {},
   "source": []
  },
  {
   "cell_type": "markdown",
   "id": "dadf1cb4-4a83-43ed-a552-db8b7765e9ab",
   "metadata": {},
   "source": [
    "### 5. Perform semantic search and display the results"
   ]
  },
  {
   "cell_type": "markdown",
   "id": "1d8a6459-d64a-4a15-a278-d0efc8f2f2f3",
   "metadata": {},
   "source": [
    "#### **API task 3**\n",
    "\n",
    "Implemente this as an API call that does semantic search"
   ]
  },
  {
   "cell_type": "code",
   "execution_count": null,
   "id": "fe3a3747-429f-47a9-a74d-5424b0d2b30d",
   "metadata": {},
   "outputs": [],
   "source": [
    "answer_meta = util.semantic_search(query_embedding, sentence_embeddings, top_k=1)"
   ]
  },
  {
   "cell_type": "markdown",
   "id": "d635cbd9-4f60-40ec-9ede-936b5b876c44",
   "metadata": {},
   "source": [
    "#### **Application task 3**\n",
    "\n",
    "Display the following information after the user executes search"
   ]
  },
  {
   "cell_type": "code",
   "execution_count": null,
   "id": "262be557-a833-456e-aceb-33b1609add1d",
   "metadata": {},
   "outputs": [],
   "source": [
    "for answer in answer_meta[0]:\n",
    "        s_id = answer[\"corpus_id\"]\n",
    "        score = answer[\"score\"]\n",
    "        print(f\"The most similar sentence to the query: {sentence_list[s_id]}\")\n",
    "        print(f\"Score: {str(score)}\")"
   ]
  }
 ],
 "metadata": {
  "kernelspec": {
   "display_name": "Python 3.10.6 64-bit ('3.10.6')",
   "language": "python",
   "name": "python3"
  },
  "language_info": {
   "codemirror_mode": {
    "name": "ipython",
    "version": 3
   },
   "file_extension": ".py",
   "mimetype": "text/x-python",
   "name": "python",
   "nbconvert_exporter": "python",
   "pygments_lexer": "ipython3",
   "version": "3.10.6"
  },
  "vscode": {
   "interpreter": {
    "hash": "1889d242febb206256c24473f23ba564c4f50c1862507bbeb8d70f82967f1905"
   }
  }
 },
 "nbformat": 4,
 "nbformat_minor": 5
}
